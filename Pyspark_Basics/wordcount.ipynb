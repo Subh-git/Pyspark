{
 "cells": [
  {
   "cell_type": "code",
   "execution_count": 1,
   "metadata": {},
   "outputs": [],
   "source": [
    "from pyspark.sql import SparkSession\n",
    "import pandas as pd "
   ]
  },
  {
   "cell_type": "code",
   "execution_count": null,
   "metadata": {},
   "outputs": [],
   "source": [
    "spark = SparkSession.builder.appName('Wordcount').getOrCreate()"
   ]
  },
  {
   "cell_type": "code",
   "execution_count": 4,
   "metadata": {},
   "outputs": [
    {
     "name": "stderr",
     "output_type": "stream",
     "text": [
      "                                                                                \r"
     ]
    },
    {
     "data": {
      "text/plain": [
       "['Ram',\n",
       " 'and',\n",
       " 'Rahul',\n",
       " 'are',\n",
       " 'brothers.',\n",
       " 'Both',\n",
       " 'of',\n",
       " 'them',\n",
       " 'likes',\n",
       " 'to',\n",
       " 'play',\n",
       " 'football.',\n",
       " 'Rahul',\n",
       " 'also',\n",
       " 'likes',\n",
       " 'to',\n",
       " 'play',\n",
       " 'Basketball.',\n",
       " 'Ram',\n",
       " 'and',\n",
       " 'Rahul',\n",
       " 'wants',\n",
       " 'to',\n",
       " 'become',\n",
       " 'sportsperson',\n",
       " 'in',\n",
       " 'the',\n",
       " 'future.']"
      ]
     },
     "execution_count": 4,
     "metadata": {},
     "output_type": "execute_result"
    }
   ],
   "source": [
    "txt_file=spark.sparkContext.textFile('sample.txt')\n",
    "txt_file.collect()\n",
    "\n",
    "splitted = txt_file.flatMap(lambda x: x.split(' '))\n",
    "splitted.collect()"
   ]
  },
  {
   "cell_type": "code",
   "execution_count": 9,
   "metadata": {},
   "outputs": [
    {
     "data": {
      "text/plain": [
       "[('Ram', 1),\n",
       " ('and', 1),\n",
       " ('Rahul', 1),\n",
       " ('are', 1),\n",
       " ('brothers.', 1),\n",
       " ('Both', 1),\n",
       " ('of', 1),\n",
       " ('them', 1),\n",
       " ('likes', 1),\n",
       " ('to', 1),\n",
       " ('play', 1),\n",
       " ('football.', 1),\n",
       " ('Rahul', 1),\n",
       " ('also', 1),\n",
       " ('likes', 1),\n",
       " ('to', 1),\n",
       " ('play', 1),\n",
       " ('Basketball.', 1),\n",
       " ('Ram', 1),\n",
       " ('and', 1),\n",
       " ('Rahul', 1),\n",
       " ('wants', 1),\n",
       " ('to', 1),\n",
       " ('become', 1),\n",
       " ('sportsperson', 1),\n",
       " ('in', 1),\n",
       " ('the', 1),\n",
       " ('future.', 1)]"
      ]
     },
     "execution_count": 9,
     "metadata": {},
     "output_type": "execute_result"
    }
   ],
   "source": [
    "words = splitted.map(lambda word: (word, 1))\n",
    "words.collect()"
   ]
  },
  {
   "cell_type": "code",
   "execution_count": 11,
   "metadata": {},
   "outputs": [
    {
     "name": "stderr",
     "output_type": "stream",
     "text": [
      "                                                                                \r"
     ]
    },
    {
     "data": {
      "text/plain": [
       "[('Rahul', 3),\n",
       " ('are', 1),\n",
       " ('brothers.', 1),\n",
       " ('of', 1),\n",
       " ('them', 1),\n",
       " ('likes', 2),\n",
       " ('wants', 1),\n",
       " ('become', 1),\n",
       " ('in', 1),\n",
       " ('Ram', 2),\n",
       " ('and', 2),\n",
       " ('Both', 1),\n",
       " ('to', 3),\n",
       " ('play', 2),\n",
       " ('football.', 1),\n",
       " ('also', 1),\n",
       " ('Basketball.', 1),\n",
       " ('sportsperson', 1),\n",
       " ('the', 1),\n",
       " ('future.', 1)]"
      ]
     },
     "execution_count": 11,
     "metadata": {},
     "output_type": "execute_result"
    }
   ],
   "source": [
    "wordcount= words.reduceByKey(lambda a,b:a+b)   #this method reduces according to the key, that is it checks equal keys and then performs action onit\n",
    "wordcount.collect()"
   ]
  }
 ],
 "metadata": {
  "interpreter": {
   "hash": "916dbcbb3f70747c44a77c7bcd40155683ae19c65e1c03b4aa3499c5328201f1"
  },
  "kernelspec": {
   "display_name": "Python 3.8.10 64-bit",
   "language": "python",
   "name": "python3"
  },
  "language_info": {
   "codemirror_mode": {
    "name": "ipython",
    "version": 3
   },
   "file_extension": ".py",
   "mimetype": "text/x-python",
   "name": "python",
   "nbconvert_exporter": "python",
   "pygments_lexer": "ipython3",
   "version": "3.8.10"
  },
  "orig_nbformat": 4
 },
 "nbformat": 4,
 "nbformat_minor": 2
}
