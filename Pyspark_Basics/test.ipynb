{
 "cells": [
  {
   "cell_type": "code",
   "execution_count": 2,
   "metadata": {},
   "outputs": [],
   "source": [
    "import pyspark\n",
    "from pyspark.sql import SparkSession\n",
    "from pyspark import SparkContext\n",
    "import pandas as pd"
   ]
  },
  {
   "cell_type": "code",
   "execution_count": 3,
   "metadata": {},
   "outputs": [
    {
     "name": "stderr",
     "output_type": "stream",
     "text": [
      "22/02/27 14:59:01 WARN Utils: Your hostname, Subh-Ubuntu resolves to a loopback address: 127.0.1.1; using 192.168.29.54 instead (on interface wlp4s0)\n",
      "22/02/27 14:59:01 WARN Utils: Set SPARK_LOCAL_IP if you need to bind to another address\n",
      "Using Spark's default log4j profile: org/apache/spark/log4j-defaults.properties\n",
      "Setting default log level to \"WARN\".\n",
      "To adjust logging level use sc.setLogLevel(newLevel). For SparkR, use setLogLevel(newLevel).\n",
      "22/02/27 14:59:02 WARN NativeCodeLoader: Unable to load native-hadoop library for your platform... using builtin-java classes where applicable\n"
     ]
    }
   ],
   "source": [
    "spark = SparkSession.builder.appName('Practice').getOrCreate()"
   ]
  },
  {
   "cell_type": "code",
   "execution_count": 4,
   "metadata": {},
   "outputs": [
    {
     "name": "stderr",
     "output_type": "stream",
     "text": [
      "                                                                                \r"
     ]
    },
    {
     "name": "stdout",
     "output_type": "stream",
     "text": [
      "[0, 1, 2, 3, 4, 5, 6, 7, 8]\n",
      "<class 'pyspark.rdd.RDD'>\n",
      "[0, 1, 2, 3, 4]\n",
      "0\n",
      "9\n",
      "[0, 2, 4, 6, 8]\n"
     ]
    }
   ],
   "source": [
    "\n",
    "myrdd = spark.sparkContext.parallelize([0,1,2,3,4,5,6,7,8])\n",
    "\n",
    "\n",
    "#myrdd.saveAsTextFile(\"hdfs//localhost:9000/spark/textrdd\")\n",
    "print(myrdd.collect())\n",
    "print(type(myrdd))\n",
    "print(myrdd.take(5))         #displays first 5 values\n",
    "print(myrdd.first())         #dsiplays the first element\n",
    "print(myrdd.count())         #returns the count of the rdd elements \n",
    "\n",
    "\n",
    "myrdd2 = myrdd.filter(lambda x: x%2 == 0)\n",
    "print(myrdd2.collect())"
   ]
  },
  {
   "cell_type": "code",
   "execution_count": 5,
   "metadata": {},
   "outputs": [
    {
     "name": "stdout",
     "output_type": "stream",
     "text": [
      "+--------+-----+--------------+\n",
      "|    name|class|avg_percentage|\n",
      "+--------+-----+--------------+\n",
      "|Shahrukh|    8|         78.36|\n",
      "| Shabnam|    8|         79.45|\n",
      "|   Rahul|    8|          80.5|\n",
      "|     Ram|    8|         91.25|\n",
      "|  Soumya|    8|         74.63|\n",
      "| Ranjeet|    7|         60.25|\n",
      "|   Rakul|    7|         56.36|\n",
      "+--------+-----+--------------+\n",
      "\n",
      "The datatype of the dataframe is-  <class 'pyspark.sql.dataframe.DataFrame'>\n"
     ]
    }
   ],
   "source": [
    "#df_py = spark.read.csv(\"data.csv\")\n",
    "df_py= spark.read.option('header','true').csv('data.csv')\n",
    "df_py.show()\n",
    "print(\"The datatype of the dataframe is- \",type(df_py))"
   ]
  },
  {
   "cell_type": "code",
   "execution_count": 6,
   "metadata": {},
   "outputs": [
    {
     "name": "stdout",
     "output_type": "stream",
     "text": [
      "root\n",
      " |-- name: string (nullable = true)\n",
      " |-- class: string (nullable = true)\n",
      " |-- avg_percentage: string (nullable = true)\n",
      "\n"
     ]
    }
   ],
   "source": [
    "df_py.head(2)\n",
    "df_py.printSchema()"
   ]
  }
 ],
 "metadata": {
  "interpreter": {
   "hash": "916dbcbb3f70747c44a77c7bcd40155683ae19c65e1c03b4aa3499c5328201f1"
  },
  "kernelspec": {
   "display_name": "Python 3.8.10 64-bit",
   "language": "python",
   "name": "python3"
  },
  "language_info": {
   "codemirror_mode": {
    "name": "ipython",
    "version": 3
   },
   "file_extension": ".py",
   "mimetype": "text/x-python",
   "name": "python",
   "nbconvert_exporter": "python",
   "pygments_lexer": "ipython3",
   "version": "3.8.10"
  },
  "orig_nbformat": 4
 },
 "nbformat": 4,
 "nbformat_minor": 2
}
